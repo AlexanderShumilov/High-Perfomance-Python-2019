{
 "cells": [
  {
   "cell_type": "code",
   "execution_count": 154,
   "metadata": {},
   "outputs": [
    {
     "name": "stdout",
     "output_type": "stream",
     "text": [
      "Using matplotlib backend: Qt5Agg\n"
     ]
    }
   ],
   "source": [
    "import numpy as np\n",
    "import matplotlib.pyplot as plt\n",
    "import matplotlib.animation as animation\n",
    "%matplotlib auto"
   ]
  },
  {
   "cell_type": "code",
   "execution_count": 317,
   "metadata": {},
   "outputs": [],
   "source": [
    "def neighbors_1(pos, i, j, k): # Pretty easy intuitive model for all 8 black neigbours\n",
    "    n = 0\n",
    "    # Middle layer\n",
    "    \n",
    "    if pos[(i - 1) % pos.shape[0], j, k] == 1: # left\n",
    "        n+=1\n",
    "    if pos[i, (j - 1) % pos.shape[1], k] == 1: # down\n",
    "        n+=1\n",
    "    if pos[(i - 1) % pos.shape[0], (j - 1) % pos.shape[1], k] == 1: # down-left\n",
    "        n+=1\n",
    "    if pos[(i - 1) % pos.shape[0], (j + 1) % pos.shape[1], k] == 1: # up-left\n",
    "        n+=1\n",
    "\n",
    "    if pos[i, (j + 1) % pos.shape[1], k] == 1: # up\n",
    "        n+=1\n",
    "    if pos[(i + 1) % pos.shape[0], j, k] == 1: # right\n",
    "        n+=1\n",
    "    if pos[(i + 1) % pos.shape[0], (j - 1) % pos.shape[1], k] == 1: # down-right\n",
    "        n+=1\n",
    "    if pos[(i + 1) % pos.shape[0], (j + 1) % pos.shape[1], k] == 1: # up-right\n",
    "        n+=1\n",
    "    # Down layer\n",
    "\n",
    "    if pos[i, j, (k - 1) % pos.shape[2]] == 1: # left\n",
    "        n+=1\n",
    "    if pos[(i - 1) % pos.shape[0], j, (k - 1) % pos.shape[2]] == 1: # left\n",
    "        n+=1\n",
    "    if pos[i, (j - 1) % pos.shape[1], (k - 1) % pos.shape[2]] == 1: # down\n",
    "        n+=1\n",
    "    if pos[(i - 1) % pos.shape[0], (j - 1) % pos.shape[1], (k - 1) % pos.shape[2]] == 1: # down-left\n",
    "        n+=1\n",
    "    if pos[(i - 1) % pos.shape[0], (j + 1) % pos.shape[1], (k - 1) % pos.shape[2]] == 1: # up-left\n",
    "        n+=1\n",
    "\n",
    "    if pos[i, (j + 1) % pos.shape[1], (k - 1) % pos.shape[2]] == 1: # up\n",
    "        n+=1\n",
    "    if pos[(i + 1) % pos.shape[0], j, (k - 1) % pos.shape[2]] == 1: # right\n",
    "        n+=1\n",
    "    if pos[(i + 1) % pos.shape[0], (j - 1) % pos.shape[1], (k - 1) % pos.shape[2]] == 1: # down-right\n",
    "        n+=1\n",
    "    if pos[(i + 1) % pos.shape[0], (j + 1) % pos.shape[1], (k - 1) % pos.shape[2]] == 1: # up-right\n",
    "        n+=1\n",
    "        \n",
    "    # Up layer    \n",
    "    if pos[i, j, (k + 1) % pos.shape[2]] == 1: # left\n",
    "        n+=1\n",
    "    if pos[(i - 1) % pos.shape[0], j, (k + 1) % pos.shape[2]] == 1: # left\n",
    "        n+=1\n",
    "    if pos[i, (j - 1) % pos.shape[1], (k + 1) % pos.shape[2]] == 1: # down\n",
    "        n+=1\n",
    "    if pos[(i - 1) % pos.shape[0], (j - 1) % pos.shape[1], (k + 1) % pos.shape[2]] == 1: # down-left\n",
    "        n+=1\n",
    "    if pos[(i - 1) % pos.shape[0], (j + 1) % pos.shape[1], (k + 1) % pos.shape[2]] == 1: # up-left\n",
    "        n+=1\n",
    "\n",
    "    if pos[i, (j + 1) % pos.shape[1], (k + 1) % pos.shape[2]] == 1: # up\n",
    "        n+=1\n",
    "    if pos[(i + 1) % pos.shape[0], j, (k + 1) % pos.shape[2]] == 1: # right\n",
    "        n+=1\n",
    "    if pos[(i + 1) % pos.shape[0], (j - 1) % pos.shape[1], (k + 1) % pos.shape[2]] == 1: # down-right\n",
    "        n+=1\n",
    "    if pos[(i + 1) % pos.shape[0], (j + 1) % pos.shape[1], (k + 1) % pos.shape[2]] == 1: # up-right\n",
    "        n+=1\n",
    "        \n",
    "    return n\n",
    "\n",
    "def neighbors_0(pos, i, j, k): # Pretty easy intuitive model for all 8 white neigbours\n",
    "    n = 0\n",
    "    # Middle layer\n",
    "    \n",
    "    if pos[(i - 1) % pos.shape[0], j, k] == 0: # left\n",
    "        n+=1\n",
    "    if pos[i, (j - 1) % pos.shape[1], k] == 0: # down\n",
    "        n+=1\n",
    "    if pos[(i - 1) % pos.shape[0], (j - 1) % pos.shape[1], k] == 0: # down-left\n",
    "        n+=1\n",
    "    if pos[(i - 1) % pos.shape[0], (j + 1) % pos.shape[1], k] == 0: # up-left\n",
    "        n+=1\n",
    "\n",
    "    if pos[i, (j + 1) % pos.shape[1], k] == 0: # up\n",
    "        n+=1\n",
    "    if pos[(i + 1) % pos.shape[0], j, k] == 0: # right\n",
    "        n+=1\n",
    "    if pos[(i + 1) % pos.shape[0], (j - 1) % pos.shape[1], k] == 0: # down-right\n",
    "        n+=1\n",
    "    if pos[(i + 1) % pos.shape[0], (j + 1) % pos.shape[1], k] == 0: # up-right\n",
    "        n+=1\n",
    "    # Down layer\n",
    "\n",
    "    if pos[i, j, (k - 1) % pos.shape[2]] == 0: # left\n",
    "        n+=1\n",
    "    if pos[(i - 1) % pos.shape[0], j, (k - 1) % pos.shape[2]] == 0: # left\n",
    "        n+=1\n",
    "    if pos[i, (j - 1) % pos.shape[1], (k - 1) % pos.shape[2]] == 0: # down\n",
    "        n+=1\n",
    "    if pos[(i - 1) % pos.shape[0], (j - 1) % pos.shape[1], (k - 1) % pos.shape[2]] == 0: # down-left\n",
    "        n+=1\n",
    "    if pos[(i - 1) % pos.shape[0], (j + 1) % pos.shape[1], (k - 1) % pos.shape[2]] == 0: # up-left\n",
    "        n+=1\n",
    "\n",
    "    if pos[i, (j + 1) % pos.shape[1], (k - 1) % pos.shape[2]] == 0: # up\n",
    "        n+=1\n",
    "    if pos[(i + 1) % pos.shape[0], j, (k - 1) % pos.shape[2]] == 0: # right\n",
    "        n+=1\n",
    "    if pos[(i + 1) % pos.shape[0], (j - 1) % pos.shape[1], (k - 1) % pos.shape[2]] == 0: # down-right\n",
    "        n+=1\n",
    "    if pos[(i + 1) % pos.shape[0], (j + 1) % pos.shape[1], (k - 1) % pos.shape[2]] == 0: # up-right\n",
    "        n+=1\n",
    "        \n",
    "    # Up layer    \n",
    "    if pos[i, j, (k + 1) % pos.shape[2]] == 0: # left\n",
    "        n+=1\n",
    "    if pos[(i - 1) % pos.shape[0], j, (k + 1) % pos.shape[2]] == 0: # left\n",
    "        n+=1\n",
    "    if pos[i, (j - 1) % pos.shape[1], (k + 1) % pos.shape[2]] == 0: # down\n",
    "        n+=1\n",
    "    if pos[(i - 1) % pos.shape[0], (j - 1) % pos.shape[1], (k + 1) % pos.shape[2]] == 0: # down-left\n",
    "        n+=1\n",
    "    if pos[(i - 1) % pos.shape[0], (j + 1) % pos.shape[1], (k + 1) % pos.shape[2]] == 0: # up-left\n",
    "        n+=1\n",
    "\n",
    "    if pos[i, (j + 1) % pos.shape[1], (k + 1) % pos.shape[2]] == 0: # up\n",
    "        n+=1\n",
    "    if pos[(i + 1) % pos.shape[0], j, (k + 1) % pos.shape[2]] == 0: # right\n",
    "        n+=1\n",
    "    if pos[(i + 1) % pos.shape[0], (j - 1) % pos.shape[1], (k + 1) % pos.shape[2]] == 0: # down-right\n",
    "        n+=1\n",
    "    if pos[(i + 1) % pos.shape[0], (j + 1) % pos.shape[1], (k + 1) % pos.shape[2]] == 0: # up-right\n",
    "        n+=1 \n",
    "    return n\n",
    "\n",
    "\n",
    "def unhappy_agents(pos, R):\n",
    "    mov = np.zeros((pos.shape[0], pos.shape[1], pos.shape[2]))\n",
    "    a_i = []\n",
    "    a_j = []\n",
    "    a_k = []\n",
    "    for i in range(pos.shape[0]):\n",
    "        for j in range(pos.shape[1]):\n",
    "            for k in range(pos.shape[2]):\n",
    "                if (neighbors_0(pos, i, j, k) < R and pos[i, j, k] == 0) | (neighbors_1(pos, i, j, k) < R and pos[i, j, k] == 1):\n",
    "                    mov[i, j, k] = 1\n",
    "                    a_i.append(i)\n",
    "                    a_j.append(j)\n",
    "                    a_k.append(k)\n",
    "\n",
    "    return mov, a_i, a_j, a_k\n",
    "\n",
    "def Rand_gen(pos, ratio = 0.1):\n",
    "    #ratio = 0.06\n",
    "    pos = np.random.choice([0, 1], size=(pos.shape[0], pos.shape[1], pos.shape[2]), p=[1 - ratio, ratio])\n",
    "    return pos"
   ]
  },
  {
   "cell_type": "code",
   "execution_count": 318,
   "metadata": {},
   "outputs": [],
   "source": [
    "N = 4\n",
    "Range = 5 # How many rounds do we have\n",
    "k = 0\n",
    "Rs = [i/26 for i in range(27)]\n",
    "ratio = 0.5 # Let ratio of black/white houses be \"ratio\" - should be not that big (or for relatively small R all \n",
    "            # black houses will be satisfied with their positions). Default - 0.5\n",
    "N_moving = np.zeros((Range,27, 27))"
   ]
  },
  {
   "cell_type": "code",
   "execution_count": 324,
   "metadata": {},
   "outputs": [],
   "source": [
    "R_factor = int(Rs[13]*26) # Number of neighbours to be unhappy enough to move\n",
    "pos = np.zeros((N**3, 1))\n",
    "pos[:int(np.ceil((1-ratio)*N**3))] = 1\n",
    "np.random.shuffle(pos)\n",
    "pos = np.zeros((N, N, N))\n",
    "\n",
    "#pos = Rand_gen(pos, ratio)\n",
    "#print(pos.shape)\n",
    "pos = pos.reshape(N, N, N)\n",
    "#print(pos)\n",
    "mov = np.zeros((N, N, N))\n",
    "pos_array = []\n",
    "mov_array = []\n",
    "\n",
    "for p in range(Range):\n",
    "    mov, array_i_1, array_j_1, array_k_1 = unhappy_agents(pos, R_factor)\n",
    "    N_moving[p,R_factor] = len(array_i_1)\n",
    "    pos_array.append(pos.copy())\n",
    "    mov_array.append(mov.copy())\n",
    "    pos_=pos.copy()\n",
    "    new_ind = np.random.permutation(len(array_i_1))\n",
    "    for i in range(len(array_i_1)):\n",
    "        pos_[(array_i_1[new_ind[i]], array_j_1[new_ind[i]], array_k_1[new_ind[i]])] = pos[(array_i_1[i], array_j_1[i], array_k_1[i])]\n",
    "    pos = pos_.copy()                "
   ]
  },
  {
   "cell_type": "code",
   "execution_count": 314,
   "metadata": {},
   "outputs": [
    {
     "data": {
      "text/plain": [
       "array([[[0., 0., 0., 0.],\n",
       "        [1., 0., 0., 0.],\n",
       "        [1., 0., 0., 1.],\n",
       "        [1., 0., 0., 1.]],\n",
       "\n",
       "       [[1., 1., 0., 0.],\n",
       "        [1., 0., 0., 0.],\n",
       "        [1., 0., 0., 1.],\n",
       "        [1., 1., 1., 1.]],\n",
       "\n",
       "       [[1., 1., 0., 0.],\n",
       "        [1., 0., 0., 0.],\n",
       "        [1., 1., 1., 1.],\n",
       "        [1., 1., 1., 1.]],\n",
       "\n",
       "       [[0., 0., 0., 0.],\n",
       "        [0., 0., 0., 0.],\n",
       "        [1., 1., 1., 1.],\n",
       "        [1., 1., 0., 1.]]])"
      ]
     },
     "execution_count": 314,
     "metadata": {},
     "output_type": "execute_result"
    }
   ],
   "source": [
    "pos"
   ]
  },
  {
   "cell_type": "code",
   "execution_count": null,
   "metadata": {},
   "outputs": [],
   "source": []
  },
  {
   "cell_type": "code",
   "execution_count": null,
   "metadata": {},
   "outputs": [],
   "source": []
  },
  {
   "cell_type": "code",
   "execution_count": 237,
   "metadata": {},
   "outputs": [],
   "source": [
    "import mpl_toolkits.mplot3d.axes3d as p3\n",
    "from matplotlib.patches import Rectangle, PathPatch\n",
    "import mpl_toolkits.mplot3d.art3d as art3d\n",
    "#pos_array = mov_array\n",
    "\n",
    "fig = plt.figure(figsize=(10,10))\n",
    "ax = p3.Axes3D(fig)\n",
    "\n",
    "x = np.ndarray.flatten(np.array(pos_array[1])).shape\n",
    "y = np.ndarray.flatten(np.array(pos_array[2])).shape\n",
    "z = np.ndarray.flatten(np.array(pos_array[3])).shape\n",
    "dots, = plt.plot(x, y, z, 'or') \n",
    "#dots = plt.scatter(x, y, z, 'r') \n",
    "  \n",
    "plt.axis('off')\n",
    "\n",
    "ax.set_xlim3d([0, N])\n",
    "ax.set_ylim3d([0, N])\n",
    "ax.set_zlim3d([0, N])\n",
    "\n",
    "title = plt.title('')\n",
    "\n",
    "for zdir in ['x','y','z']:\n",
    "    for z in [0,N]:\n",
    "        p = Rectangle((0,0), N, N, color='b', alpha=0.1)\n",
    "        ax.add_patch(p)\n",
    "        art3d.pathpatch_2d_to_3d(p, z=z, zdir=zdir)\n",
    "\n",
    "skip = 1\n",
    "        \n",
    "def animate(i): \n",
    "    x = np.ndarray.flatten(np.array(pos_array[::skip][i][:,1]))\n",
    "    y = np.ndarray.flatten(np.array(pos_array[::skip][i][:,2]))\n",
    "    z = np.ndarray.flatten(np.array(pos_array[::skip][i][:,3]))\n",
    "    dots.set_data(x, y)  \n",
    "    dots.set_3d_properties(z)  \n",
    "    #title.set_text(\"t = %2.3f\" %(tHistory[::skip][i]))\n",
    "\n",
    "\n",
    "ani = animation.FuncAnimation(fig, animate, len(pos_array[::skip]),\n",
    "    interval=1)\n",
    "\n",
    "plt.show()"
   ]
  },
  {
   "cell_type": "code",
   "execution_count": 239,
   "metadata": {},
   "outputs": [
    {
     "ename": "ValueError",
     "evalue": "too many values to unpack (expected 1)",
     "output_type": "error",
     "traceback": [
      "\u001b[0;31m---------------------------------------------------------------------------\u001b[0m",
      "\u001b[0;31mValueError\u001b[0m                                Traceback (most recent call last)",
      "\u001b[0;32m<ipython-input-239-e54b6111d920>\u001b[0m in \u001b[0;36m<module>\u001b[0;34m\u001b[0m\n\u001b[1;32m      2\u001b[0m \u001b[0my\u001b[0m \u001b[0;34m=\u001b[0m \u001b[0mnp\u001b[0m\u001b[0;34m.\u001b[0m\u001b[0mndarray\u001b[0m\u001b[0;34m.\u001b[0m\u001b[0mflatten\u001b[0m\u001b[0;34m(\u001b[0m\u001b[0mnp\u001b[0m\u001b[0;34m.\u001b[0m\u001b[0marray\u001b[0m\u001b[0;34m(\u001b[0m\u001b[0mpos_array\u001b[0m\u001b[0;34m[\u001b[0m\u001b[0;36m2\u001b[0m\u001b[0;34m]\u001b[0m\u001b[0;34m)\u001b[0m\u001b[0;34m)\u001b[0m\u001b[0;34m.\u001b[0m\u001b[0mshape\u001b[0m\u001b[0;34m\u001b[0m\u001b[0;34m\u001b[0m\u001b[0m\n\u001b[1;32m      3\u001b[0m \u001b[0mz\u001b[0m \u001b[0;34m=\u001b[0m \u001b[0mnp\u001b[0m\u001b[0;34m.\u001b[0m\u001b[0mndarray\u001b[0m\u001b[0;34m.\u001b[0m\u001b[0mflatten\u001b[0m\u001b[0;34m(\u001b[0m\u001b[0mnp\u001b[0m\u001b[0;34m.\u001b[0m\u001b[0marray\u001b[0m\u001b[0;34m(\u001b[0m\u001b[0mpos_array\u001b[0m\u001b[0;34m[\u001b[0m\u001b[0;36m3\u001b[0m\u001b[0;34m]\u001b[0m\u001b[0;34m)\u001b[0m\u001b[0;34m)\u001b[0m\u001b[0;34m.\u001b[0m\u001b[0mshape\u001b[0m\u001b[0;34m\u001b[0m\u001b[0;34m\u001b[0m\u001b[0m\n\u001b[0;32m----> 4\u001b[0;31m \u001b[0mdots\u001b[0m\u001b[0;34m,\u001b[0m \u001b[0;34m=\u001b[0m \u001b[0mplt\u001b[0m\u001b[0;34m.\u001b[0m\u001b[0mplot\u001b[0m\u001b[0;34m(\u001b[0m\u001b[0mx\u001b[0m\u001b[0;34m,\u001b[0m \u001b[0my\u001b[0m\u001b[0;34m,\u001b[0m \u001b[0mz\u001b[0m\u001b[0;34m,\u001b[0m \u001b[0;34m'or'\u001b[0m\u001b[0;34m)\u001b[0m\u001b[0;34m\u001b[0m\u001b[0;34m\u001b[0m\u001b[0m\n\u001b[0m",
      "\u001b[0;31mValueError\u001b[0m: too many values to unpack (expected 1)"
     ]
    }
   ],
   "source": [
    "x = np.ndarray.flatten(np.array(pos_array[1])).shape\n",
    "y = np.ndarray.flatten(np.array(pos_array[2])).shape\n",
    "z = np.ndarray.flatten(np.array(pos_array[3])).shape\n",
    "dots, = plt.plot(x, y, z, 'or') "
   ]
  },
  {
   "cell_type": "code",
   "execution_count": 260,
   "metadata": {},
   "outputs": [],
   "source": [
    "import numpy as np\n",
    "from matplotlib import pyplot as plt\n",
    "from mpl_toolkits.mplot3d import Axes3D\n",
    "import matplotlib.animation\n",
    "import pandas as pd\n",
    "\n",
    "\n",
    "d = np.array(range(np.ndarray.flatten(np.array(pos_array[0])).shape[0]))\n",
    "data_ = {\"time\": d, \n",
    "         \"x\":np.ndarray.flatten(np.array(pos_array[0])), \n",
    "         \"y\":np.ndarray.flatten(np.array(pos_array[0])), \n",
    "         \"z\" : np.ndarray.flatten(np.array(pos_array[0]))}\n",
    "def update_graph(num):\n",
    "    data=df[df['time']==num]\n",
    "    graph.set_data (data.x[num], data.y[num])\n",
    "    graph.set_3d_properties(data.z[num])\n",
    "    return title, graph, \n",
    "\n",
    "\n",
    "fig = plt.figure()\n",
    "ax = fig.add_subplot(111, projection='3d')\n",
    "\n",
    "#plt.axis('off')\n",
    "\n",
    "ax.set_xlim3d([0, N])\n",
    "ax.set_ylim3d([0, N])\n",
    "ax.set_zlim3d([0, N])\n",
    "\n",
    "\n",
    "\n",
    "data=df[df['time']==0]\n",
    "graph, = ax.plot(data.x, data.y, data.z, linestyle=\"\", marker=\"o\")\n",
    "\n",
    "ani = matplotlib.animation.FuncAnimation(fig, update_graph)\n",
    "\n",
    "plt.show()"
   ]
  },
  {
   "cell_type": "code",
   "execution_count": 302,
   "metadata": {},
   "outputs": [
    {
     "data": {
      "text/plain": [
       "(15, 15)"
      ]
     },
     "execution_count": 302,
     "metadata": {},
     "output_type": "execute_result"
    }
   ],
   "source": [
    "\n",
    "po = np.ndarray.flatten(np.array(pos_array[0]))\n",
    "np.array(pos_array[0])[14].shape"
   ]
  },
  {
   "cell_type": "code",
   "execution_count": 305,
   "metadata": {},
   "outputs": [
    {
     "name": "stdout",
     "output_type": "stream",
     "text": [
      "(2, 2, 3)\n"
     ]
    },
    {
     "data": {
      "text/plain": [
       "array([ 1,  2,  3,  5,  6,  7,  8,  9, 10, 11, 12, 13])"
      ]
     },
     "execution_count": 305,
     "metadata": {},
     "output_type": "execute_result"
    }
   ],
   "source": [
    "lis = [ [[1,2,3],\n",
    "        [5,6,7]],\n",
    "        [[8,9,10],\n",
    "         [11,12,13]]]\n",
    "print(np.array(lis).shape)\n",
    "np.ndarray.flatten(np.array(lis))"
   ]
  },
  {
   "cell_type": "code",
   "execution_count": 245,
   "metadata": {},
   "outputs": [],
   "source": [
    "from mpl_toolkits.mplot3d import Axes3D\n",
    "import matplotlib.pyplot as plt\n",
    "\n",
    "\n",
    "\n",
    "fig = plt.figure()\n",
    "ax = fig.add_subplot(111, projection='3d')\n",
    "\n",
    "x =np.ndarray.flatten(np.array(pos_array[1]))\n",
    "y =np.ndarray.flatten(np.array(pos_array[2]))\n",
    "z =np.ndarray.flatten(np.array(pos_array[3]))\n",
    "\n",
    "\n",
    "\n",
    "ax.scatter(x, y, z, c='r', marker='o')\n",
    "\n",
    "ax.set_xlabel('X Label')\n",
    "ax.set_ylabel('Y Label')\n",
    "ax.set_zlabel('Z Label')\n",
    "\n",
    "plt.show()"
   ]
  },
  {
   "cell_type": "markdown",
   "metadata": {},
   "source": [
    "https://stackoverflow.com/questions/41602588/matplotlib-3d-scatter-animations"
   ]
  },
  {
   "cell_type": "code",
   "execution_count": null,
   "metadata": {},
   "outputs": [],
   "source": []
  }
 ],
 "metadata": {
  "kernelspec": {
   "display_name": "Python 3",
   "language": "python",
   "name": "python3"
  },
  "language_info": {
   "codemirror_mode": {
    "name": "ipython",
    "version": 3
   },
   "file_extension": ".py",
   "mimetype": "text/x-python",
   "name": "python",
   "nbconvert_exporter": "python",
   "pygments_lexer": "ipython3",
   "version": "3.7.4"
  }
 },
 "nbformat": 4,
 "nbformat_minor": 2
}
