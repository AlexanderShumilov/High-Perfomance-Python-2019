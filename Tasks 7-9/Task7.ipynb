{
 "cells": [
  {
   "cell_type": "code",
   "execution_count": 3,
   "metadata": {},
   "outputs": [
    {
     "name": "stdout",
     "output_type": "stream",
     "text": [
      "1 0.023873596999919755\n"
     ]
    }
   ],
   "source": [
    "import numpy as np\n",
    "import matplotlib.pyplot as plt\n",
    "from math import pi\n",
    "from mpi4py import MPI\n",
    "\n",
    "def f(x):\n",
    "    return 1/(1 + x**2)\n",
    "\n",
    "def trapz(f, a, b, n_points = 1):\n",
    "    \n",
    "    dx = (b - a)/n_points\n",
    "    ans = 1/2 * (f(a) + f(b))\n",
    "    \n",
    "    for i in range(1, int(n_points)):\n",
    "        ans += f(a + i*dx)     \n",
    "    return ans*dx\n",
    "\n",
    "comm = MPI.COMM_WORLD\n",
    "rank = comm.Get_rank()\n",
    "size = comm.Get_size()\n",
    "\n",
    "a = -pi/4\n",
    "b = pi/4\n",
    "disc = 1e+5\n",
    "my_int = np.zeros(1)\n",
    "integral_sum = np.zeros(1)\n",
    "\n",
    "start = MPI.Wtime()\n",
    "\n",
    "# Compute partition\n",
    "dx = (b - a) / disc # calculate dx \n",
    "\n",
    "if disc >= size:\n",
    "    if rank != size - 1:\n",
    "        discret_number = int(np.floor(disc/size))\n",
    "    else:\n",
    "        discret_number = int(disc - np.floor(disc*(size - 1)/size))\n",
    "else:\n",
    "    if rank < disc:\n",
    "        discret_number = 1\n",
    "    else:\n",
    "        discret_number = 0\n",
    "\n",
    "#print('I m process', rank, 'number of points', discret_number)\n",
    "dx = (b - a)/disc\n",
    "a_i = a + rank * dx * discret_number\n",
    "b_i = a + (rank + 1) * dx * discret_number\n",
    "#print(\"The first and second points:\", a_i, b_i)\n",
    "my_int[0] = trapz(f, a_i, b_i, discret_number)\n",
    "\n",
    "comm.Barrier()\n",
    "end = MPI.Wtime()\n",
    "\n",
    "# Send partition back to root process, computing sum across all partitions\n",
    "#print(\"Process \", rank, \" has the partial integral \", my_int[0])\n",
    "comm.Reduce(my_int, integral_sum, MPI.SUM, root = 0)\n",
    "\n",
    "# Only print the result in process 0\n",
    "if rank == 0:\n",
    "    #an_int = analytical_integral(a, b)\n",
    "    #accuracy = (an_int - integral_sum[0])/an_int\n",
    "    #print('The Integral Sum =', integral_sum[0])\n",
    "    #print('Analytical Integral Sum = ', an_int, '\\nAccuracy =', abs(accuracy))\n",
    "    print(size, end - start)"
   ]
  },
  {
   "cell_type": "code",
   "execution_count": null,
   "metadata": {},
   "outputs": [],
   "source": []
  }
 ],
 "metadata": {
  "kernelspec": {
   "display_name": "Python 3",
   "language": "python",
   "name": "python3"
  },
  "language_info": {
   "codemirror_mode": {
    "name": "ipython",
    "version": 3
   },
   "file_extension": ".py",
   "mimetype": "text/x-python",
   "name": "python",
   "nbconvert_exporter": "python",
   "pygments_lexer": "ipython3",
   "version": "3.7.4"
  }
 },
 "nbformat": 4,
 "nbformat_minor": 2
}
