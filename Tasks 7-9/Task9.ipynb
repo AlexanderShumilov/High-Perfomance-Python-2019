{
 "cells": [
  {
   "cell_type": "markdown",
   "metadata": {},
   "source": [
    "## Non-parallel Game of Life"
   ]
  },
  {
   "cell_type": "code",
   "execution_count": 704,
   "metadata": {},
   "outputs": [
    {
     "name": "stdout",
     "output_type": "stream",
     "text": [
      "Using matplotlib backend: Qt5Agg\n"
     ]
    }
   ],
   "source": [
    "import numpy as np\n",
    "import matplotlib.pyplot as plt\n",
    "import matplotlib.animation as animation\n",
    "%matplotlib auto"
   ]
  },
  {
   "cell_type": "code",
   "execution_count": 705,
   "metadata": {},
   "outputs": [],
   "source": [
    "def Rand_gen(pos, ratio = 0.1):\n",
    "    #ratio = 0.06\n",
    "    pos = np.random.choice([0, 1], size=(pos.shape[0], pos.shape[1]), p=[1 - ratio, ratio])\n",
    "    return pos\n",
    "\n",
    "def Glider(pos):\n",
    "    j = -1\n",
    "    pos[1+j, 2+j] = pos[2+j, 3+j] = pos[3+j, 1+j] = pos[3+j, 2+j] = pos[3+j, 3+j] = 1\n",
    "    return pos\n",
    "\n",
    "def Beacon(pos):\n",
    "    j = 1\n",
    "    pos[1+j, 1+j] = pos[1+j, 2+j] = pos[2+j, 1+j] = pos[2+j, 2+j] = 1\n",
    "    pos[3+j, 3+j] = pos[3+j, 4+j] = pos[4+j, 3+j] = pos[4+j, 4+j] = 1\n",
    "    return pos\n",
    "\n",
    "def Puffer(pos):\n",
    "    j = 10\n",
    "    pos[3+j, 1+j] = pos[4+j, 1+j] = pos[5+j, 1+j] = pos[10+j, 1+j] = 1\n",
    "    pos[2+j, 2+j] = pos[5+j, 2+j] = pos[9+j, 2+j] = pos[10+j, 2+j] = pos[11+j, 2+j] = 1\n",
    "    pos[2+j, 2+j] = pos[5+j, 3+j] = pos[9+j, 3+j] = pos[11+j, 3+j] = pos[12+j, 3+j] = 1\n",
    "    pos[16+j, 3+j] = pos[17+j, 3+j] = pos[18+j, 3+j] = 1\n",
    "    pos[1+j, 4+j] = pos[5+j, 4+j] = pos[10+j, 4+j] = pos[11+j, 4+j] = pos[12+j, 4+j] = 1\n",
    "    pos[10+j, 4+j] = pos[15+j, 4+j] = pos[18+j, 4+j] = 1\n",
    "    pos[5+j, 5+j] = pos[10+j, 5+j] = pos[11+j, 5+j] = pos[18+j, 5+j] = 1\n",
    "    pos[1+j, 6+j] = pos[4+j, 6+j] = pos[10+j, 6+j] = pos[14+j, 6+j] = pos[18+j, 6+j] =1\n",
    "    \n",
    "    pos[13+j, 7+j] = pos[18+j, 7+j] = pos[18+j, 8+j] = pos[15+j, 9+j] = pos[17+j, 9+j] = 1\n",
    "    \n",
    "    return pos\n",
    "\n",
    "def Gosper(pos):\n",
    "    j = 1\n",
    "    pos[6+j, 2+j] = pos[6+j, 3+j] = pos[7+j, 2+j] = pos[7+j, 3+j]  = 1\n",
    "    pos[4+j, 36+j] = pos[4+j, 37+j] = pos[5+j, 36+j] = pos[5+j, 37+j]  = 1\n",
    "    \n",
    "    pos[6+j, 12+j] = pos[7+j, 12+j] = pos[8+j, 12+j] = 1\n",
    "    pos[5+j, 13+j] = pos[4+j, 14+j] = pos[9+j, 13+j] = pos[10+j, 14+j] = 1\n",
    "    pos[4+j, 15+j] = pos[10+j, 15+j] = 1\n",
    "    pos[7+j, 16+j] = pos[5+j, 17+j] = pos[9+j, 17+j] = 1\n",
    "    pos[7+j, 18+j] = pos[6+j, 18+j] = pos[8+j, 18+j] = pos[7+j, 19+j] = 1\n",
    "    \n",
    "    pos[6+j, 22+j] = pos[5+j, 22+j] = pos[4+j, 22+j] = 1\n",
    "    pos[6+j, 23+j] = pos[5+j, 23+j] = pos[4+j, 23+j] = 1\n",
    "    pos[7+j, 24+j] = pos[3+j, 24+j] = 1\n",
    "    pos[7+j, 26+j] = pos[3+j, 26+j] = pos[8+j, 26+j] = pos[2+j, 26+j] = 1\n",
    "    \n",
    "    \n",
    "    return pos"
   ]
  },
  {
   "cell_type": "code",
   "execution_count": 706,
   "metadata": {},
   "outputs": [],
   "source": [
    "def neighbors_alive(pos, i, j): # Pretty easy intuitive model for all 8 black neigbours\n",
    "    n = 0\n",
    "    \n",
    "    if pos[(i - 1) % pos.shape[0], j] == 1: # left\n",
    "        n+=1\n",
    "    if pos[i, (j - 1) % pos.shape[1]] == 1: # down\n",
    "        n+=1\n",
    "    if pos[(i - 1) % pos.shape[0], (j - 1) % pos.shape[1]] == 1: # down-left\n",
    "        n+=1\n",
    "    if pos[(i - 1) % pos.shape[0], (j + 1) % pos.shape[1]] == 1: # up-left\n",
    "        n+=1\n",
    "\n",
    "    if pos[i, (j + 1) % pos.shape[1]] == 1: # up\n",
    "        n+=1\n",
    "    if pos[(i + 1) % pos.shape[0], j] == 1: # right\n",
    "        n+=1\n",
    "    if pos[(i + 1) % pos.shape[0], (j - 1) % pos.shape[1]] == 1: # down-right\n",
    "        n+=1\n",
    "    if pos[(i + 1) % pos.shape[0], (j + 1) % pos.shape[1]] == 1: # up-right\n",
    "        n+=1\n",
    "        \n",
    "    return n\n",
    "\n",
    "\n",
    "def unhappy_agents(pos):\n",
    "    a_i_r = []\n",
    "    a_j_r = []\n",
    "    a_i_k = []\n",
    "    a_j_k = []\n",
    "    for i in range(pos.shape[0]):\n",
    "        for j in range(pos.shape[1]):\n",
    "            N_alive = neighbors_alive(pos, i, j)\n",
    "            \n",
    "            if pos[i, j] == 0:\n",
    "                if N_alive == 3:\n",
    "                    #print('Dead cell:' ,i, j, '; N_neigb =', N_alive, ' - Resurrect')\n",
    "                    a_i_r.append(i)\n",
    "                    a_j_r.append(j)\n",
    "            else:\n",
    "                if N_alive < 2 or N_alive > 3 :\n",
    "                    #print('Alive cell:' ,i, j, '; N_neigb =', N_alive, ' - Kill')\n",
    "                    a_i_k.append(i)\n",
    "                    a_j_k.append(j)  \n",
    "                \n",
    "    return a_i_r, a_j_r, a_i_k, a_j_k"
   ]
  },
  {
   "cell_type": "markdown",
   "metadata": {},
   "source": [
    "## Relevant version"
   ]
  },
  {
   "cell_type": "code",
   "execution_count": 710,
   "metadata": {},
   "outputs": [],
   "source": [
    "N = 50\n",
    "Range = 200 # How many rounds do we have\n",
    "k = 0\n",
    "ratio = 0.2\n",
    "\n",
    "pos = np.zeros((N, N))\n",
    "\n",
    "#pos = Rand_gen(pos, ratio)\n",
    "#pos = Beacon(pos)\n",
    "#pos = Glider(pos)\n",
    "#pos = Gosper(pos)\n",
    "pos = Puffer(pos)\n",
    "\n",
    "pos_array = []\n",
    "alive_history = []\n",
    "pos_array.append(pos.copy())\n",
    "    \n",
    "for p in range(Range):\n",
    "    alive_history.append(sum(pos[pos != 0]))\n",
    "    \n",
    "    array_i_r, array_j_r, array_i_k, array_j_k = unhappy_agents(pos)\n",
    "\n",
    "    for i in range(len(array_i_r)):\n",
    "        pos[array_i_r[i], array_j_r[i]] = 1\n",
    "    for i in range(len(array_i_k)):\n",
    "        pos[array_i_k[i], array_j_k[i]] = 0\n",
    "    pos_array.append(pos.copy())"
   ]
  },
  {
   "cell_type": "code",
   "execution_count": 711,
   "metadata": {},
   "outputs": [
    {
     "name": "stdout",
     "output_type": "stream",
     "text": [
      "Using matplotlib backend: Qt5Agg\n"
     ]
    }
   ],
   "source": [
    "%matplotlib auto\n",
    "fig = plt.figure(figsize = (14,11))\n",
    "plt.rcParams.update({'font.size': 20})\n",
    "im = plt.imshow(pos, vmin=0, vmax=1, cmap='gist_yarg')\n",
    "\n",
    "def animate(i): # Animation \n",
    "    im.set_array(pos_array[i]) \n",
    "\n",
    "ani = animation.FuncAnimation(fig, animate, len(pos_array))\n",
    "\n",
    "\n",
    "#name = 'Random initial condition'\n",
    "name = 'Puffer'\n",
    "#name = 'Gosper gun'\n",
    "#name = 'Glider'\n",
    "#name = 'Beacon'\n",
    "\n",
    "#ani.save('Task8_' + name + '.gif', writer='PillowWriter')"
   ]
  },
  {
   "cell_type": "code",
   "execution_count": 712,
   "metadata": {},
   "outputs": [],
   "source": [
    "\n",
    "plt.figure(figsize = (14,11))  \n",
    "plt.plot(range(len(alive_history)), alive_history, 'x-', color = 'r')\n",
    "plt.rcParams.update({'font.size': 20})\n",
    "plt.title(name) \n",
    "plt.xlabel('N, iteration')\n",
    "plt.ylabel('Number of alive cells')\n",
    "plt.show()\n",
    "\n",
    "#plt.savefig('Task8_' + name + '.png', format='png')#"
   ]
  },
  {
   "cell_type": "markdown",
   "metadata": {},
   "source": [
    "https://www.conwaylife.com/wiki/Main_Page"
   ]
  }
 ],
 "metadata": {
  "kernelspec": {
   "display_name": "Python 3",
   "language": "python",
   "name": "python3"
  },
  "language_info": {
   "codemirror_mode": {
    "name": "ipython",
    "version": 3
   },
   "file_extension": ".py",
   "mimetype": "text/x-python",
   "name": "python",
   "nbconvert_exporter": "python",
   "pygments_lexer": "ipython3",
   "version": "3.7.4"
  }
 },
 "nbformat": 4,
 "nbformat_minor": 2
}
