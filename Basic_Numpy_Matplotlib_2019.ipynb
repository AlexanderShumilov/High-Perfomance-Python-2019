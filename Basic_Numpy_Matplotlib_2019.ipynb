{
 "cells": [
  {
   "cell_type": "markdown",
   "metadata": {},
   "source": [
    "## Python\n",
    "\n",
    "* Great for prototyping, scripting, has a lot of useful libraries\n",
    "* Not suitable for low-level programming, but OK if the computation can be vectorized (Numpy)\n",
    "* Great for visualizing results (Matplotlib)\n",
    "\n",
    "## Jupyter notebooks (http://jupyter.org/)\n",
    "\n",
    "* Great for presenting Python workflows\n",
    "* Many useful features (Latex, interactive widgets, etc.) "
   ]
  },
  {
   "cell_type": "markdown",
   "metadata": {},
   "source": [
    "## Numpy for common vector/matrix operations\n",
    "Avoid Python loops; use Numpy functions instead. \n",
    "\n",
    "### Example: compare several methods to sum an array\n",
    "Standard imports:"
   ]
  },
  {
   "cell_type": "code",
   "execution_count": 15,
   "metadata": {},
   "outputs": [],
   "source": [
    "import numpy as np\n",
    "import matplotlib.pyplot as plt\n",
    "import time"
   ]
  },
  {
   "cell_type": "markdown",
   "metadata": {},
   "source": [
    "Generate a random N x N array:"
   ]
  },
  {
   "cell_type": "code",
   "execution_count": 16,
   "metadata": {},
   "outputs": [],
   "source": [
    "N = 3000\n",
    "A = np.random.normal(size=(N,N)) # an NxN array with random, normally distributed values \n",
    "assert A.shape[0] == N and A.shape[1] == N"
   ]
  },
  {
   "cell_type": "markdown",
   "metadata": {},
   "source": [
    "Consider several methods of suming the array:"
   ]
  },
  {
   "cell_type": "code",
   "execution_count": 3,
   "metadata": {},
   "outputs": [
    {
     "name": "stdout",
     "output_type": "stream",
     "text": [
      "Sum: -4360.792132683135\n",
      "Time of Python loop: 2.2598965167999268\n",
      "Time of Numpy sum  : 0.003542661666870117\n",
      "Time of Method 3   : 0.01410222053527832\n",
      "Time of Method 4   : 0.02400350570678711\n"
     ]
    }
   ],
   "source": [
    "# Method 1 - Python loop\n",
    "t0 = time.time()\n",
    "sum1 = 0\n",
    "for n0 in range(N):\n",
    "    for n1 in range(N):\n",
    "        sum1 += A[n0, n1]\n",
    "dt1 = time.time()-t0\n",
    "print ('Sum:', sum1)\n",
    "print ('Time of Python loop:', dt1)\n",
    "\n",
    "# Method 2 - Numpy's sum\n",
    "t0 = time.time()\n",
    "sum2 = np.sum(A)\n",
    "dt2 = time.time()-t0\n",
    "assert np.abs(sum1-sum2) < 1e-8\n",
    "print ('Time of Numpy sum  :', dt2)\n",
    "\n",
    "# Method 3 - sum rows, then resulting column\n",
    "t0 = time.time()\n",
    "sum3 = 0\n",
    "for n0 in range(N):\n",
    "    sum3 += np.sum(A[n0,:])\n",
    "dt3 = time.time()-t0\n",
    "assert np.abs(sum1-sum3) < 1e-8\n",
    "print ('Time of Method 3   :', dt3)\n",
    "\n",
    "# Method 4 - sum columns, then resulting row\n",
    "t0 = time.time()\n",
    "sum4 = 0\n",
    "for n1 in range(N):\n",
    "    sum4 += np.sum(A[:,n1])\n",
    "dt4 = time.time()-t0\n",
    "assert np.abs(sum1-sum4) < 1e-8\n",
    "print ('Time of Method 4   :', dt4)"
   ]
  },
  {
   "cell_type": "markdown",
   "metadata": {},
   "source": [
    "**Exercise:** why is Method 4 slower than Method 3?\n",
    "\n",
    "## Cython: accelerating Python code\n",
    "\n",
    "Some useful tutorials: \n",
    "* http://cython.readthedocs.io/en/latest/src/quickstart/build.html\n",
    "* http://nbviewer.jupyter.org/github/rasbt/python_reference/blob/master/tutorials/running_cython.ipynb\n",
    "* http://cython.readthedocs.io/en/latest/src/tutorial/numpy.html"
   ]
  },
  {
   "cell_type": "code",
   "execution_count": 4,
   "metadata": {},
   "outputs": [],
   "source": [
    "%load_ext cython"
   ]
  },
  {
   "cell_type": "markdown",
   "metadata": {},
   "source": [
    "Write and compile a Cython function for the sum:"
   ]
  },
  {
   "cell_type": "code",
   "execution_count": 5,
   "metadata": {},
   "outputs": [
    {
     "name": "stderr",
     "output_type": "stream",
     "text": [
      "unable to execute 'gcc': No such file or directory\n"
     ]
    },
    {
     "ename": "CompileError",
     "evalue": "command 'gcc' failed with exit status 1",
     "output_type": "error",
     "traceback": [
      "\u001b[0;31m---------------------------------------------------------------------------\u001b[0m",
      "\u001b[0;31mDistutilsExecError\u001b[0m                        Traceback (most recent call last)",
      "\u001b[0;32m~/anaconda3/lib/python3.7/distutils/unixccompiler.py\u001b[0m in \u001b[0;36m_compile\u001b[0;34m(self, obj, src, ext, cc_args, extra_postargs, pp_opts)\u001b[0m\n\u001b[1;32m    117\u001b[0m             self.spawn(compiler_so + cc_args + [src, '-o', obj] +\n\u001b[0;32m--> 118\u001b[0;31m                        extra_postargs)\n\u001b[0m\u001b[1;32m    119\u001b[0m         \u001b[0;32mexcept\u001b[0m \u001b[0mDistutilsExecError\u001b[0m \u001b[0;32mas\u001b[0m \u001b[0mmsg\u001b[0m\u001b[0;34m:\u001b[0m\u001b[0;34m\u001b[0m\u001b[0;34m\u001b[0m\u001b[0m\n",
      "\u001b[0;32m~/anaconda3/lib/python3.7/distutils/ccompiler.py\u001b[0m in \u001b[0;36mspawn\u001b[0;34m(self, cmd)\u001b[0m\n\u001b[1;32m    908\u001b[0m     \u001b[0;32mdef\u001b[0m \u001b[0mspawn\u001b[0m\u001b[0;34m(\u001b[0m\u001b[0mself\u001b[0m\u001b[0;34m,\u001b[0m \u001b[0mcmd\u001b[0m\u001b[0;34m)\u001b[0m\u001b[0;34m:\u001b[0m\u001b[0;34m\u001b[0m\u001b[0;34m\u001b[0m\u001b[0m\n\u001b[0;32m--> 909\u001b[0;31m         \u001b[0mspawn\u001b[0m\u001b[0;34m(\u001b[0m\u001b[0mcmd\u001b[0m\u001b[0;34m,\u001b[0m \u001b[0mdry_run\u001b[0m\u001b[0;34m=\u001b[0m\u001b[0mself\u001b[0m\u001b[0;34m.\u001b[0m\u001b[0mdry_run\u001b[0m\u001b[0;34m)\u001b[0m\u001b[0;34m\u001b[0m\u001b[0;34m\u001b[0m\u001b[0m\n\u001b[0m\u001b[1;32m    910\u001b[0m \u001b[0;34m\u001b[0m\u001b[0m\n",
      "\u001b[0;32m~/anaconda3/lib/python3.7/distutils/spawn.py\u001b[0m in \u001b[0;36mspawn\u001b[0;34m(cmd, search_path, verbose, dry_run)\u001b[0m\n\u001b[1;32m     35\u001b[0m     \u001b[0;32mif\u001b[0m \u001b[0mos\u001b[0m\u001b[0;34m.\u001b[0m\u001b[0mname\u001b[0m \u001b[0;34m==\u001b[0m \u001b[0;34m'posix'\u001b[0m\u001b[0;34m:\u001b[0m\u001b[0;34m\u001b[0m\u001b[0;34m\u001b[0m\u001b[0m\n\u001b[0;32m---> 36\u001b[0;31m         \u001b[0m_spawn_posix\u001b[0m\u001b[0;34m(\u001b[0m\u001b[0mcmd\u001b[0m\u001b[0;34m,\u001b[0m \u001b[0msearch_path\u001b[0m\u001b[0;34m,\u001b[0m \u001b[0mdry_run\u001b[0m\u001b[0;34m=\u001b[0m\u001b[0mdry_run\u001b[0m\u001b[0;34m)\u001b[0m\u001b[0;34m\u001b[0m\u001b[0;34m\u001b[0m\u001b[0m\n\u001b[0m\u001b[1;32m     37\u001b[0m     \u001b[0;32melif\u001b[0m \u001b[0mos\u001b[0m\u001b[0;34m.\u001b[0m\u001b[0mname\u001b[0m \u001b[0;34m==\u001b[0m \u001b[0;34m'nt'\u001b[0m\u001b[0;34m:\u001b[0m\u001b[0;34m\u001b[0m\u001b[0;34m\u001b[0m\u001b[0m\n",
      "\u001b[0;32m~/anaconda3/lib/python3.7/distutils/spawn.py\u001b[0m in \u001b[0;36m_spawn_posix\u001b[0;34m(cmd, search_path, verbose, dry_run)\u001b[0m\n\u001b[1;32m    158\u001b[0m                           \u001b[0;34m\"command %r failed with exit status %d\"\u001b[0m\u001b[0;34m\u001b[0m\u001b[0;34m\u001b[0m\u001b[0m\n\u001b[0;32m--> 159\u001b[0;31m                           % (cmd, exit_status))\n\u001b[0m\u001b[1;32m    160\u001b[0m             \u001b[0;32melif\u001b[0m \u001b[0mos\u001b[0m\u001b[0;34m.\u001b[0m\u001b[0mWIFSTOPPED\u001b[0m\u001b[0;34m(\u001b[0m\u001b[0mstatus\u001b[0m\u001b[0;34m)\u001b[0m\u001b[0;34m:\u001b[0m\u001b[0;34m\u001b[0m\u001b[0;34m\u001b[0m\u001b[0m\n",
      "\u001b[0;31mDistutilsExecError\u001b[0m: command 'gcc' failed with exit status 1",
      "\nDuring handling of the above exception, another exception occurred:\n",
      "\u001b[0;31mCompileError\u001b[0m                              Traceback (most recent call last)",
      "\u001b[0;32m<ipython-input-5-d8872f3d3d6f>\u001b[0m in \u001b[0;36m<module>\u001b[0;34m\u001b[0m\n\u001b[0;32m----> 1\u001b[0;31m \u001b[0mget_ipython\u001b[0m\u001b[0;34m(\u001b[0m\u001b[0;34m)\u001b[0m\u001b[0;34m.\u001b[0m\u001b[0mrun_cell_magic\u001b[0m\u001b[0;34m(\u001b[0m\u001b[0;34m'cython'\u001b[0m\u001b[0;34m,\u001b[0m \u001b[0;34m'-a'\u001b[0m\u001b[0;34m,\u001b[0m \u001b[0;34m'# use \"%%cython -a\" to see color highlights of slower parts\\ncimport numpy as np \\n\\ncpdef sum_cython(np.ndarray[double, ndim=2] A):\\n    cdef double sum0 = 0\\n    cdef int n0, n1, N\\n    N = A.shape[0]\\n    for n0 in range(N):\\n        for n1 in range(N):\\n            sum0 += A[n0,n1]\\n    return sum0\\n'\u001b[0m\u001b[0;34m)\u001b[0m\u001b[0;34m\u001b[0m\u001b[0;34m\u001b[0m\u001b[0m\n\u001b[0m",
      "\u001b[0;32m~/anaconda3/lib/python3.7/site-packages/IPython/core/interactiveshell.py\u001b[0m in \u001b[0;36mrun_cell_magic\u001b[0;34m(self, magic_name, line, cell)\u001b[0m\n\u001b[1;32m   2357\u001b[0m             \u001b[0;32mwith\u001b[0m \u001b[0mself\u001b[0m\u001b[0;34m.\u001b[0m\u001b[0mbuiltin_trap\u001b[0m\u001b[0;34m:\u001b[0m\u001b[0;34m\u001b[0m\u001b[0;34m\u001b[0m\u001b[0m\n\u001b[1;32m   2358\u001b[0m                 \u001b[0margs\u001b[0m \u001b[0;34m=\u001b[0m \u001b[0;34m(\u001b[0m\u001b[0mmagic_arg_s\u001b[0m\u001b[0;34m,\u001b[0m \u001b[0mcell\u001b[0m\u001b[0;34m)\u001b[0m\u001b[0;34m\u001b[0m\u001b[0;34m\u001b[0m\u001b[0m\n\u001b[0;32m-> 2359\u001b[0;31m                 \u001b[0mresult\u001b[0m \u001b[0;34m=\u001b[0m \u001b[0mfn\u001b[0m\u001b[0;34m(\u001b[0m\u001b[0;34m*\u001b[0m\u001b[0margs\u001b[0m\u001b[0;34m,\u001b[0m \u001b[0;34m**\u001b[0m\u001b[0mkwargs\u001b[0m\u001b[0;34m)\u001b[0m\u001b[0;34m\u001b[0m\u001b[0;34m\u001b[0m\u001b[0m\n\u001b[0m\u001b[1;32m   2360\u001b[0m             \u001b[0;32mreturn\u001b[0m \u001b[0mresult\u001b[0m\u001b[0;34m\u001b[0m\u001b[0;34m\u001b[0m\u001b[0m\n\u001b[1;32m   2361\u001b[0m \u001b[0;34m\u001b[0m\u001b[0m\n",
      "\u001b[0;32m</home/alexh3/anaconda3/lib/python3.7/site-packages/decorator.py:decorator-gen-128>\u001b[0m in \u001b[0;36mcython\u001b[0;34m(self, line, cell)\u001b[0m\n",
      "\u001b[0;32m~/anaconda3/lib/python3.7/site-packages/IPython/core/magic.py\u001b[0m in \u001b[0;36m<lambda>\u001b[0;34m(f, *a, **k)\u001b[0m\n\u001b[1;32m    185\u001b[0m     \u001b[0;31m# but it's overkill for just that one bit of state.\u001b[0m\u001b[0;34m\u001b[0m\u001b[0;34m\u001b[0m\u001b[0;34m\u001b[0m\u001b[0m\n\u001b[1;32m    186\u001b[0m     \u001b[0;32mdef\u001b[0m \u001b[0mmagic_deco\u001b[0m\u001b[0;34m(\u001b[0m\u001b[0marg\u001b[0m\u001b[0;34m)\u001b[0m\u001b[0;34m:\u001b[0m\u001b[0;34m\u001b[0m\u001b[0;34m\u001b[0m\u001b[0m\n\u001b[0;32m--> 187\u001b[0;31m         \u001b[0mcall\u001b[0m \u001b[0;34m=\u001b[0m \u001b[0;32mlambda\u001b[0m \u001b[0mf\u001b[0m\u001b[0;34m,\u001b[0m \u001b[0;34m*\u001b[0m\u001b[0ma\u001b[0m\u001b[0;34m,\u001b[0m \u001b[0;34m**\u001b[0m\u001b[0mk\u001b[0m\u001b[0;34m:\u001b[0m \u001b[0mf\u001b[0m\u001b[0;34m(\u001b[0m\u001b[0;34m*\u001b[0m\u001b[0ma\u001b[0m\u001b[0;34m,\u001b[0m \u001b[0;34m**\u001b[0m\u001b[0mk\u001b[0m\u001b[0;34m)\u001b[0m\u001b[0;34m\u001b[0m\u001b[0;34m\u001b[0m\u001b[0m\n\u001b[0m\u001b[1;32m    188\u001b[0m \u001b[0;34m\u001b[0m\u001b[0m\n\u001b[1;32m    189\u001b[0m         \u001b[0;32mif\u001b[0m \u001b[0mcallable\u001b[0m\u001b[0;34m(\u001b[0m\u001b[0marg\u001b[0m\u001b[0;34m)\u001b[0m\u001b[0;34m:\u001b[0m\u001b[0;34m\u001b[0m\u001b[0;34m\u001b[0m\u001b[0m\n",
      "\u001b[0;32m~/anaconda3/lib/python3.7/site-packages/Cython/Build/IpythonMagic.py\u001b[0m in \u001b[0;36mcython\u001b[0;34m(self, line, cell)\u001b[0m\n\u001b[1;32m    331\u001b[0m \u001b[0;34m\u001b[0m\u001b[0m\n\u001b[1;32m    332\u001b[0m         self._build_extension(extension, lib_dir, pgo_step_name='use' if args.pgo else None,\n\u001b[0;32m--> 333\u001b[0;31m                               quiet=args.quiet)\n\u001b[0m\u001b[1;32m    334\u001b[0m \u001b[0;34m\u001b[0m\u001b[0m\n\u001b[1;32m    335\u001b[0m         \u001b[0mmodule\u001b[0m \u001b[0;34m=\u001b[0m \u001b[0mimp\u001b[0m\u001b[0;34m.\u001b[0m\u001b[0mload_dynamic\u001b[0m\u001b[0;34m(\u001b[0m\u001b[0mmodule_name\u001b[0m\u001b[0;34m,\u001b[0m \u001b[0mmodule_path\u001b[0m\u001b[0;34m)\u001b[0m\u001b[0;34m\u001b[0m\u001b[0;34m\u001b[0m\u001b[0m\n",
      "\u001b[0;32m~/anaconda3/lib/python3.7/site-packages/Cython/Build/IpythonMagic.py\u001b[0m in \u001b[0;36m_build_extension\u001b[0;34m(self, extension, lib_dir, temp_dir, pgo_step_name, quiet)\u001b[0m\n\u001b[1;32m    441\u001b[0m             \u001b[0;32mif\u001b[0m \u001b[0;32mnot\u001b[0m \u001b[0mquiet\u001b[0m\u001b[0;34m:\u001b[0m\u001b[0;34m\u001b[0m\u001b[0;34m\u001b[0m\u001b[0m\n\u001b[1;32m    442\u001b[0m                 \u001b[0mold_threshold\u001b[0m \u001b[0;34m=\u001b[0m \u001b[0mdistutils\u001b[0m\u001b[0;34m.\u001b[0m\u001b[0mlog\u001b[0m\u001b[0;34m.\u001b[0m\u001b[0mset_threshold\u001b[0m\u001b[0;34m(\u001b[0m\u001b[0mdistutils\u001b[0m\u001b[0;34m.\u001b[0m\u001b[0mlog\u001b[0m\u001b[0;34m.\u001b[0m\u001b[0mDEBUG\u001b[0m\u001b[0;34m)\u001b[0m\u001b[0;34m\u001b[0m\u001b[0;34m\u001b[0m\u001b[0m\n\u001b[0;32m--> 443\u001b[0;31m             \u001b[0mbuild_extension\u001b[0m\u001b[0;34m.\u001b[0m\u001b[0mrun\u001b[0m\u001b[0;34m(\u001b[0m\u001b[0;34m)\u001b[0m\u001b[0;34m\u001b[0m\u001b[0;34m\u001b[0m\u001b[0m\n\u001b[0m\u001b[1;32m    444\u001b[0m         \u001b[0;32mfinally\u001b[0m\u001b[0;34m:\u001b[0m\u001b[0;34m\u001b[0m\u001b[0;34m\u001b[0m\u001b[0m\n\u001b[1;32m    445\u001b[0m             \u001b[0;32mif\u001b[0m \u001b[0;32mnot\u001b[0m \u001b[0mquiet\u001b[0m \u001b[0;32mand\u001b[0m \u001b[0mold_threshold\u001b[0m \u001b[0;32mis\u001b[0m \u001b[0;32mnot\u001b[0m \u001b[0;32mNone\u001b[0m\u001b[0;34m:\u001b[0m\u001b[0;34m\u001b[0m\u001b[0;34m\u001b[0m\u001b[0m\n",
      "\u001b[0;32m~/anaconda3/lib/python3.7/distutils/command/build_ext.py\u001b[0m in \u001b[0;36mrun\u001b[0;34m(self)\u001b[0m\n\u001b[1;32m    338\u001b[0m \u001b[0;34m\u001b[0m\u001b[0m\n\u001b[1;32m    339\u001b[0m         \u001b[0;31m# Now actually compile and link everything.\u001b[0m\u001b[0;34m\u001b[0m\u001b[0;34m\u001b[0m\u001b[0;34m\u001b[0m\u001b[0m\n\u001b[0;32m--> 340\u001b[0;31m         \u001b[0mself\u001b[0m\u001b[0;34m.\u001b[0m\u001b[0mbuild_extensions\u001b[0m\u001b[0;34m(\u001b[0m\u001b[0;34m)\u001b[0m\u001b[0;34m\u001b[0m\u001b[0;34m\u001b[0m\u001b[0m\n\u001b[0m\u001b[1;32m    341\u001b[0m \u001b[0;34m\u001b[0m\u001b[0m\n\u001b[1;32m    342\u001b[0m     \u001b[0;32mdef\u001b[0m \u001b[0mcheck_extensions_list\u001b[0m\u001b[0;34m(\u001b[0m\u001b[0mself\u001b[0m\u001b[0;34m,\u001b[0m \u001b[0mextensions\u001b[0m\u001b[0;34m)\u001b[0m\u001b[0;34m:\u001b[0m\u001b[0;34m\u001b[0m\u001b[0;34m\u001b[0m\u001b[0m\n",
      "\u001b[0;32m~/anaconda3/lib/python3.7/distutils/command/build_ext.py\u001b[0m in \u001b[0;36mbuild_extensions\u001b[0;34m(self)\u001b[0m\n\u001b[1;32m    447\u001b[0m             \u001b[0mself\u001b[0m\u001b[0;34m.\u001b[0m\u001b[0m_build_extensions_parallel\u001b[0m\u001b[0;34m(\u001b[0m\u001b[0;34m)\u001b[0m\u001b[0;34m\u001b[0m\u001b[0;34m\u001b[0m\u001b[0m\n\u001b[1;32m    448\u001b[0m         \u001b[0;32melse\u001b[0m\u001b[0;34m:\u001b[0m\u001b[0;34m\u001b[0m\u001b[0;34m\u001b[0m\u001b[0m\n\u001b[0;32m--> 449\u001b[0;31m             \u001b[0mself\u001b[0m\u001b[0;34m.\u001b[0m\u001b[0m_build_extensions_serial\u001b[0m\u001b[0;34m(\u001b[0m\u001b[0;34m)\u001b[0m\u001b[0;34m\u001b[0m\u001b[0;34m\u001b[0m\u001b[0m\n\u001b[0m\u001b[1;32m    450\u001b[0m \u001b[0;34m\u001b[0m\u001b[0m\n\u001b[1;32m    451\u001b[0m     \u001b[0;32mdef\u001b[0m \u001b[0m_build_extensions_parallel\u001b[0m\u001b[0;34m(\u001b[0m\u001b[0mself\u001b[0m\u001b[0;34m)\u001b[0m\u001b[0;34m:\u001b[0m\u001b[0;34m\u001b[0m\u001b[0;34m\u001b[0m\u001b[0m\n",
      "\u001b[0;32m~/anaconda3/lib/python3.7/distutils/command/build_ext.py\u001b[0m in \u001b[0;36m_build_extensions_serial\u001b[0;34m(self)\u001b[0m\n\u001b[1;32m    472\u001b[0m         \u001b[0;32mfor\u001b[0m \u001b[0mext\u001b[0m \u001b[0;32min\u001b[0m \u001b[0mself\u001b[0m\u001b[0;34m.\u001b[0m\u001b[0mextensions\u001b[0m\u001b[0;34m:\u001b[0m\u001b[0;34m\u001b[0m\u001b[0;34m\u001b[0m\u001b[0m\n\u001b[1;32m    473\u001b[0m             \u001b[0;32mwith\u001b[0m \u001b[0mself\u001b[0m\u001b[0;34m.\u001b[0m\u001b[0m_filter_build_errors\u001b[0m\u001b[0;34m(\u001b[0m\u001b[0mext\u001b[0m\u001b[0;34m)\u001b[0m\u001b[0;34m:\u001b[0m\u001b[0;34m\u001b[0m\u001b[0;34m\u001b[0m\u001b[0m\n\u001b[0;32m--> 474\u001b[0;31m                 \u001b[0mself\u001b[0m\u001b[0;34m.\u001b[0m\u001b[0mbuild_extension\u001b[0m\u001b[0;34m(\u001b[0m\u001b[0mext\u001b[0m\u001b[0;34m)\u001b[0m\u001b[0;34m\u001b[0m\u001b[0;34m\u001b[0m\u001b[0m\n\u001b[0m\u001b[1;32m    475\u001b[0m \u001b[0;34m\u001b[0m\u001b[0m\n\u001b[1;32m    476\u001b[0m     \u001b[0;34m@\u001b[0m\u001b[0mcontextlib\u001b[0m\u001b[0;34m.\u001b[0m\u001b[0mcontextmanager\u001b[0m\u001b[0;34m\u001b[0m\u001b[0;34m\u001b[0m\u001b[0m\n",
      "\u001b[0;32m~/anaconda3/lib/python3.7/distutils/command/build_ext.py\u001b[0m in \u001b[0;36mbuild_extension\u001b[0;34m(self, ext)\u001b[0m\n\u001b[1;32m    532\u001b[0m                                          \u001b[0mdebug\u001b[0m\u001b[0;34m=\u001b[0m\u001b[0mself\u001b[0m\u001b[0;34m.\u001b[0m\u001b[0mdebug\u001b[0m\u001b[0;34m,\u001b[0m\u001b[0;34m\u001b[0m\u001b[0;34m\u001b[0m\u001b[0m\n\u001b[1;32m    533\u001b[0m                                          \u001b[0mextra_postargs\u001b[0m\u001b[0;34m=\u001b[0m\u001b[0mextra_args\u001b[0m\u001b[0;34m,\u001b[0m\u001b[0;34m\u001b[0m\u001b[0;34m\u001b[0m\u001b[0m\n\u001b[0;32m--> 534\u001b[0;31m                                          depends=ext.depends)\n\u001b[0m\u001b[1;32m    535\u001b[0m \u001b[0;34m\u001b[0m\u001b[0m\n\u001b[1;32m    536\u001b[0m         \u001b[0;31m# XXX outdated variable, kept here in case third-part code\u001b[0m\u001b[0;34m\u001b[0m\u001b[0;34m\u001b[0m\u001b[0;34m\u001b[0m\u001b[0m\n",
      "\u001b[0;32m~/anaconda3/lib/python3.7/distutils/ccompiler.py\u001b[0m in \u001b[0;36mcompile\u001b[0;34m(self, sources, output_dir, macros, include_dirs, debug, extra_preargs, extra_postargs, depends)\u001b[0m\n\u001b[1;32m    572\u001b[0m             \u001b[0;32mexcept\u001b[0m \u001b[0mKeyError\u001b[0m\u001b[0;34m:\u001b[0m\u001b[0;34m\u001b[0m\u001b[0;34m\u001b[0m\u001b[0m\n\u001b[1;32m    573\u001b[0m                 \u001b[0;32mcontinue\u001b[0m\u001b[0;34m\u001b[0m\u001b[0;34m\u001b[0m\u001b[0m\n\u001b[0;32m--> 574\u001b[0;31m             \u001b[0mself\u001b[0m\u001b[0;34m.\u001b[0m\u001b[0m_compile\u001b[0m\u001b[0;34m(\u001b[0m\u001b[0mobj\u001b[0m\u001b[0;34m,\u001b[0m \u001b[0msrc\u001b[0m\u001b[0;34m,\u001b[0m \u001b[0mext\u001b[0m\u001b[0;34m,\u001b[0m \u001b[0mcc_args\u001b[0m\u001b[0;34m,\u001b[0m \u001b[0mextra_postargs\u001b[0m\u001b[0;34m,\u001b[0m \u001b[0mpp_opts\u001b[0m\u001b[0;34m)\u001b[0m\u001b[0;34m\u001b[0m\u001b[0;34m\u001b[0m\u001b[0m\n\u001b[0m\u001b[1;32m    575\u001b[0m \u001b[0;34m\u001b[0m\u001b[0m\n\u001b[1;32m    576\u001b[0m         \u001b[0;31m# Return *all* object filenames, not just the ones we just built.\u001b[0m\u001b[0;34m\u001b[0m\u001b[0;34m\u001b[0m\u001b[0;34m\u001b[0m\u001b[0m\n",
      "\u001b[0;32m~/anaconda3/lib/python3.7/distutils/unixccompiler.py\u001b[0m in \u001b[0;36m_compile\u001b[0;34m(self, obj, src, ext, cc_args, extra_postargs, pp_opts)\u001b[0m\n\u001b[1;32m    118\u001b[0m                        extra_postargs)\n\u001b[1;32m    119\u001b[0m         \u001b[0;32mexcept\u001b[0m \u001b[0mDistutilsExecError\u001b[0m \u001b[0;32mas\u001b[0m \u001b[0mmsg\u001b[0m\u001b[0;34m:\u001b[0m\u001b[0;34m\u001b[0m\u001b[0;34m\u001b[0m\u001b[0m\n\u001b[0;32m--> 120\u001b[0;31m             \u001b[0;32mraise\u001b[0m \u001b[0mCompileError\u001b[0m\u001b[0;34m(\u001b[0m\u001b[0mmsg\u001b[0m\u001b[0;34m)\u001b[0m\u001b[0;34m\u001b[0m\u001b[0;34m\u001b[0m\u001b[0m\n\u001b[0m\u001b[1;32m    121\u001b[0m \u001b[0;34m\u001b[0m\u001b[0m\n\u001b[1;32m    122\u001b[0m     def create_static_lib(self, objects, output_libname,\n",
      "\u001b[0;31mCompileError\u001b[0m: command 'gcc' failed with exit status 1"
     ]
    }
   ],
   "source": [
    "%%cython -a\n",
    "# use \"%%cython -a\" to see color highlights of slower parts\n",
    "cimport numpy as np \n",
    "\n",
    "cpdef sum_cython(np.ndarray[double, ndim=2] A):\n",
    "    cdef double sum0 = 0\n",
    "    cdef int n0, n1, N\n",
    "    N = A.shape[0]\n",
    "    for n0 in range(N):\n",
    "        for n1 in range(N):\n",
    "            sum0 += A[n0,n1]\n",
    "    return sum0"
   ]
  },
  {
   "cell_type": "markdown",
   "metadata": {},
   "source": [
    "Test evaluation time:"
   ]
  },
  {
   "cell_type": "code",
   "execution_count": null,
   "metadata": {},
   "outputs": [],
   "source": [
    "t0 = time.time()\n",
    "sum5 = sum_cython(A)\n",
    "dt5 = time.time()-t0\n",
    "assert np.abs(sum1-sum5) < 1e-8\n",
    "print ('Time of Cython:', dt5)"
   ]
  },
  {
   "cell_type": "markdown",
   "metadata": {},
   "source": [
    "Sometimes it is convenient to have inline plots (instead of 'inline' one can in principle use different backends like nbagg, qt, wx or auto) "
   ]
  },
  {
   "cell_type": "code",
   "execution_count": null,
   "metadata": {},
   "outputs": [],
   "source": [
    "# render plots in the notebook \n",
    "%matplotlib inline"
   ]
  },
  {
   "cell_type": "markdown",
   "metadata": {},
   "source": [
    "## Example: curve fitting by least squares\n",
    "Let $f(t)=a_0+a_1t+\\xi_t$, where $\\xi_t\\sim\\mathcal N(0,\\epsilon)$ is a Gaussian white noise.  \n",
    "\n",
    "#### 1. Creating the data to be fitted"
   ]
  },
  {
   "cell_type": "code",
   "execution_count": 6,
   "metadata": {},
   "outputs": [
    {
     "name": "stdout",
     "output_type": "stream",
     "text": [
      "a0 = 1.206519, a1 = -0.371424\n"
     ]
    },
    {
     "data": {
      "image/png": "[encoded data removed]",
      "text/plain": [
       "<Figure size 432x288 with 1 Axes>"
      ]
     },
     "metadata": {
      "needs_background": "light"
     },
     "output_type": "display_data"
    }
   ],
   "source": [
    "a0 = np.random.normal()\n",
    "a1 = np.random.normal()\n",
    "print ('a0 = %f, a1 = %f' %(a0, a1))\n",
    "N = 10 # number of observations\n",
    "x = np.arange(0,N)\n",
    "epsilon = 1e-4\n",
    "xi = np.random.normal(size=(N,))\n",
    "y = a0+a1*x\n",
    "y_noisy = y+xi\n",
    "\n",
    "plt.figure()\n",
    "plt.plot(y, '-x', label='original linear model')\n",
    "plt.plot(y_noisy, 'o', label='noisy observations')\n",
    "plt.legend(loc='best')\n",
    "plt.show()"
   ]
  },
  {
   "cell_type": "markdown",
   "metadata": {},
   "source": [
    "#### 2. Fitting the model to the data\n",
    "Let us fit a straight line to the observations by least squares:\n",
    "$$\\|F{\\mathbf a}-\\mathbf{y}\\|^2\\to\\min_{\\mathbf a},$$\n",
    "where \n",
    "$$F = \n",
    "\\begin{pmatrix}\n",
    "1 & t_1\\\\\n",
    "\\vdots & \\vdots \\\\\n",
    "1 & t_N\n",
    "\\end{pmatrix},\n",
    "\\mathbf a =\n",
    "\\begin{pmatrix}\n",
    "a_0\\\\\n",
    "a_1\n",
    "\\end{pmatrix},\n",
    "\\mathbf y = \n",
    "\\begin{pmatrix}\n",
    "y_1\\\\\n",
    "\\vdots \\\\\n",
    "y_N\n",
    "\\end{pmatrix},\n",
    "\\|\\mathbf v\\|^2=\\sum_n v_n^2. $$ \n",
    "\n",
    "Many ways to solve this problem with Python:\n",
    "\n",
    "**Approach 1:** Exact solution $\\mathbf a = (F^tF)^{-1}F\\mathbf y.$\n",
    "\n",
    "**Approach 2:** Numerical optimization.\n",
    "\n",
    "**Approach 3:** Numpy library function for least squares. "
   ]
  },
  {
   "cell_type": "code",
   "execution_count": 7,
   "metadata": {},
   "outputs": [
    {
     "name": "stdout",
     "output_type": "stream",
     "text": [
      "Approach 1: a0 = 1.247458, a1 = -0.321539\n",
      "Approach 2: a0 = 1.247458, a1 = -0.321539\n",
      "Approach 3: a0 = 1.247458, a1 = -0.321539\n"
     ]
    },
    {
     "name": "stderr",
     "output_type": "stream",
     "text": [
      "/home/alexh3/anaconda3/lib/python3.7/site-packages/ipykernel_launcher.py:18: FutureWarning: `rcond` parameter will change to the default of machine precision times ``max(M, N)`` where M and N are the input matrix dimensions.\n",
      "To use the future default and silence this warning we advise to pass `rcond=None`, to keep using the old, explicitly pass `rcond=-1`.\n"
     ]
    },
    {
     "data": {
      "image/png": "[encoded data removed]",
      "text/plain": [
       "<Figure size 432x288 with 1 Axes>"
      ]
     },
     "metadata": {
      "needs_background": "light"
     },
     "output_type": "display_data"
    }
   ],
   "source": [
    "F = np.ones((N,2))\n",
    "F[:,1] = x\n",
    "\n",
    "# Approach 1\n",
    "aa1 = np.dot(np.dot(np.linalg.inv(np.dot(F.T, F)), F.T), y_noisy)\n",
    "print ('Approach 1: a0 = %f, a1 = %f' %(aa1[0], aa1[1]))\n",
    "\n",
    "# Approach 2\n",
    "import scipy.optimize \n",
    "def f(aa):\n",
    "    diff = np.dot(F, aa)-y_noisy\n",
    "    return np.sum(diff*diff)\n",
    "res = scipy.optimize.minimize(f, x0=[0,0])\n",
    "aa2 = res['x']\n",
    "print ('Approach 2: a0 = %f, a1 = %f' %(aa2[0], aa2[1]))\n",
    "\n",
    "# Approach 3\n",
    "aa3 = np.linalg.lstsq(F, y_noisy)[0]\n",
    "print ('Approach 3: a0 = %f, a1 = %f' %(aa3[0], aa3[1]))\n",
    "\n",
    "plt.figure()\n",
    "plt.plot(y, '-', label='original linear model')\n",
    "plt.plot(y_noisy, 'o', label='noisy observations')\n",
    "plt.plot(np.dot(F, aa1), '-', label='fitted linear model')\n",
    "plt.legend(loc='best')\n",
    "plt.show()"
   ]
  },
  {
   "cell_type": "markdown",
   "metadata": {},
   "source": [
    "**Exercise:** Perform curve fitting with a 2nd degree polynomial.\n",
    "\n",
    "**Exercise:** Write down the formula describing the shape of the histogram below. (Hint: Wigner's semicircle law.) "
   ]
  },
  {
   "cell_type": "code",
   "execution_count": 8,
   "metadata": {},
   "outputs": [
    {
     "data": {
      "image/png": "[encoded data removed]",
      "text/plain": [
       "<Figure size 432x288 with 1 Axes>"
      ]
     },
     "metadata": {
      "needs_background": "light"
     },
     "output_type": "display_data"
    }
   ],
   "source": [
    "N = 2000\n",
    "A = np.random.normal(size=(N, N))\n",
    "B = A+A.T\n",
    "eigenvalues = np.linalg.eigh(B)[0]\n",
    "\n",
    "plt.figure()\n",
    "plt.hist(eigenvalues, bins=100)\n",
    "plt.show()"
   ]
  },
  {
   "cell_type": "markdown",
   "metadata": {},
   "source": [
    "## Matplotlib animation\n",
    "\n",
    "A useful tutorial: https://jakevdp.github.io/blog/2012/08/18/matplotlib-animation-tutorial/\n",
    "\n",
    "(Disable inline plotting by %matplotlib auto; play with backends or restart the kernel if animation doesn't play.) "
   ]
  },
  {
   "cell_type": "code",
   "execution_count": 20,
   "metadata": {
    "scrolled": false
   },
   "outputs": [
    {
     "name": "stdout",
     "output_type": "stream",
     "text": [
      "Using matplotlib backend: Qt5Agg\n"
     ]
    }
   ],
   "source": [
    "%matplotlib auto\n",
    "\"\"\"\n",
    "Matplotlib Animation Example\n",
    "\n",
    "author: Jake Vanderplas\n",
    "email: vanderplas@astro.washington.edu\n",
    "website: http://jakevdp.github.com\n",
    "license: BSD\n",
    "Please feel free to use and modify this, but keep the above information. Thanks!\n",
    "\"\"\"\n",
    "\n",
    "import numpy as np\n",
    "import matplotlib.pyplot as plt\n",
    "import matplotlib.animation as animation\n",
    "\n",
    "# First set up the figure, the axis, and the plot element we want to animate\n",
    "fig = plt.figure()\n",
    "ax = plt.axes(xlim=(0, 2), ylim=(-2, 2))\n",
    "line, = ax.plot([], [], lw=2)\n",
    "\n",
    "# initialization function: plot the background of each frame\n",
    "def init():\n",
    "    line.set_data([], [])\n",
    "    return line,\n",
    "\n",
    "# animation function.  This is called sequentially\n",
    "def animate(i):\n",
    "    x = np.linspace(0, 2, 1000)\n",
    "    y = np.sin(2 * np.pi * (x - 0.01 * i))\n",
    "    line.set_data(x, y)\n",
    "    return line,\n",
    "\n",
    "# call the animator.  blit=True means only re-draw the parts that have changed.\n",
    "anim = animation.FuncAnimation(fig, animate, init_func=init,\n",
    "                               frames=200, interval=20, blit=True)\n",
    "\n",
    "# save the animation as an mp4.  This requires ffmpeg or mencoder to be\n",
    "# installed.  The extra_args ensure that the x264 codec is used, so that\n",
    "# the video can be embedded in html5.  You may need to adjust this for\n",
    "# your system: for more information, see\n",
    "# http://matplotlib.sourceforge.net/api/animation_api.html\n",
    "# anim.save('basic_animation.mp4', fps=30, extra_args=['-vcodec', 'libx264'])\n",
    "\n",
    "plt.show()"
   ]
  },
  {
   "cell_type": "markdown",
   "metadata": {},
   "source": [
    "### Particles in a box under Lennard-Jones potential"
   ]
  },
  {
   "cell_type": "code",
   "execution_count": 10,
   "metadata": {},
   "outputs": [
    {
     "name": "stderr",
     "output_type": "stream",
     "text": [
      "/home/alexh3/anaconda3/lib/python3.7/site-packages/ipykernel_launcher.py:35: RuntimeWarning: divide by zero encountered in true_divide\n",
      "/home/alexh3/anaconda3/lib/python3.7/site-packages/ipykernel_launcher.py:36: RuntimeWarning: divide by zero encountered in true_divide\n",
      "/home/alexh3/anaconda3/lib/python3.7/site-packages/ipykernel_launcher.py:36: RuntimeWarning: invalid value encountered in subtract\n",
      "/home/alexh3/anaconda3/lib/python3.7/site-packages/ipykernel_launcher.py:37: RuntimeWarning: divide by zero encountered in true_divide\n"
     ]
    }
   ],
   "source": [
    "def LJ(r, eps=1., sigma=1.):\n",
    "    sr = sigma/r\n",
    "    return 4*eps*(sr**12-sr**6)\n",
    "\n",
    "N = 100 # number of particles\n",
    "L = 5. # size of the box\n",
    "v0std = 2. # initial velocity std per axis per particle\n",
    "\n",
    "init_pos = 'regular'\n",
    "if init_pos == 'regular':\n",
    "    cellsPerSide = int(np.ceil(N**(1./3)))\n",
    "    L1 = L/cellsPerSide\n",
    "    x0 = np.zeros((N,3))\n",
    "    x0[:,0] = np.arange(N)%cellsPerSide     \n",
    "    a = np.arange(N)//cellsPerSide \n",
    "    x0[:,1] = a%cellsPerSide   \n",
    "    x0[:,2] = a//cellsPerSide    \n",
    "    x0 = L1/2+L1*x0\n",
    "                           \n",
    "elif init_pos == 'random':\n",
    "    x0 = L*np.random.rand(N,3)\n",
    "else:\n",
    "    raise NotImplementedError\n",
    "\n",
    "\n",
    "v0 = v0std*np.random.normal(size=(N,3))\n",
    "\n",
    "def F_all(x, eps=1., sigma=1.):\n",
    "    x1 = np.broadcast_to(x.reshape((N,1,3)), (N,N,3))\n",
    "    x2 = np.broadcast_to(x.reshape((1,N,3)), (N,N,3))\n",
    "    R = x2-x1    \n",
    "    R = (R+L/2.)%L-L/2. # periodic b.c.\n",
    "    assert np.all(R >= -L/2.) and np.all(R <= L/2.)\n",
    "    r = np.sqrt(np.sum(R*R, axis=2))\n",
    "    sr = sigma/r\n",
    "    F0 = 4*eps*(12*sr**12/r-6*sr**6/r) # scalar values of forces\n",
    "    F = R*np.broadcast_to((F0/r).reshape((N,N,1)), (N,N,3))\n",
    "    F[range(N), range(N)] = 0 # exclude self-action\n",
    "    assert np.sum(np.isnan(F)) == 0\n",
    "    return -np.sum(F, axis=1)\n",
    "\n",
    "def integrate(F_all, x, v, dt, N):\n",
    "    xHistory = [x0] \n",
    "    vHistory_ = [v0+dt/2.*F_all(x)]\n",
    "    for n in range(N):\n",
    "        xHistory.append(np.remainder(xHistory[-1]+dt*vHistory_[-1], L))\n",
    "        vHistory_.append(1.*(vHistory_[-1]+dt*F_all(xHistory[-1])))\n",
    "    vHistory = [(vHistory_[n]+vHistory_[n+1])/2. for n in range(len(vHistory_)-1)]\n",
    "    assert len(xHistory) == len(vHistory)+1\n",
    "    return xHistory[1:], vHistory \n",
    "\n",
    "m = 2\n",
    "dt = 10**(-m)\n",
    "xHistory, vHistory = integrate(F_all, x0, v0, dt=dt, N=int(10./dt)) \n",
    "tHistory = dt*np.arange(len(xHistory))\n",
    "\n",
    "import mpl_toolkits.mplot3d.axes3d as p3\n",
    "from matplotlib.patches import Rectangle, PathPatch\n",
    "import mpl_toolkits.mplot3d.art3d as art3d\n",
    "\n",
    "fig = plt.figure(figsize=(10,10))\n",
    "ax = p3.Axes3D(fig)\n",
    "\n",
    "dots, = plt.plot(xHistory[0][:,0], xHistory[0][:,1], xHistory[0][:,2], 'ob') \n",
    "  \n",
    "plt.axis('off')\n",
    "\n",
    "ax.set_xlim3d([0, L])\n",
    "ax.set_ylim3d([0, L])\n",
    "ax.set_zlim3d([0, L])\n",
    "\n",
    "title = plt.title('')\n",
    "\n",
    "for zdir in ['x','y','z']:\n",
    "    for z in [0,L]:\n",
    "        p = Rectangle((0,0), L, L, color='r', alpha=0.1)\n",
    "        ax.add_patch(p)\n",
    "        art3d.pathpatch_2d_to_3d(p, z=z, zdir=zdir)\n",
    "\n",
    "skip = 1\n",
    "        \n",
    "def animate(i): \n",
    "    dots.set_data(xHistory[::skip][i][:,0], xHistory[::skip][i][:,1])  \n",
    "    dots.set_3d_properties(xHistory[::skip][i][:,2])  \n",
    "    title.set_text(\"t = %2.3f\" %(tHistory[::skip][i]))\n",
    "\n",
    "\n",
    "ani = animation.FuncAnimation(fig, animate, len(tHistory[::skip]),\n",
    "    interval=1)\n",
    "\n",
    "plt.show()"
   ]
  },
  {
   "cell_type": "markdown",
   "metadata": {},
   "source": [
    "### The heat equation"
   ]
  },
  {
   "cell_type": "code",
   "execution_count": 11,
   "metadata": {},
   "outputs": [],
   "source": [
    "import numpy as np\n",
    "import matplotlib.pyplot as plt\n",
    "import matplotlib.animation as animation\n",
    "\n",
    "N = 300\n",
    "dx = 1./N\n",
    "x0, x1 = np.meshgrid(dx*np.arange(N), dx*np.arange(N))\n",
    "u0 = np.exp(-70*(4*(x0-0.3)**2+(x1-0.6)**2))+0.5*np.exp(-20*((x0-0.6)**2+(x1-0.4)**2))\n",
    "dt = 5e-6\n",
    "a = 1.\n",
    "uHistory = []\n",
    "skip = 30\n",
    "u = u0.copy()\n",
    "for n in range(3000):\n",
    "    if n%skip == 0:\n",
    "        uHistory.append(u.copy())\n",
    "    \n",
    "    dudx = np.zeros_like(u)\n",
    "    dudx[:-1] = u[1:]-u[:-1]\n",
    "    dudx[-1] = u[0]-u[-1]\n",
    "    d2udx2 = np.zeros_like(u)\n",
    "    d2udx2[1:] = dudx[1:]-dudx[:-1]\n",
    "    d2udx2[0] = dudx[0]-dudx[-1]\n",
    "    \n",
    "    dudy = np.zeros_like(u)\n",
    "    dudy[:,:-1] = u[:,1:]-u[:,:-1]\n",
    "    dudy[:,-1] = u[:,0]-u[:,-1]\n",
    "    d2udy2 = np.zeros_like(u)\n",
    "    d2udy2[:,1:] = dudy[:,1:]-dudy[:,:-1]\n",
    "    d2udy2[:,0] = dudy[:,0]-dudy[:,-1]\n",
    "    \n",
    "    u += a/2.*dt*(1./dx)**2*(d2udx2+d2udy2)\n",
    "\n",
    "tHistory = dt*skip*np.arange(len(uHistory))\n",
    "minHistory = [np.min(uHistory[k]) for k in range(len(uHistory))]\n",
    "maxHistory = [np.max(uHistory[k]) for k in range(len(uHistory))]\n",
    "meanHistory = [np.mean(uHistory[k]) for k in range(len(uHistory))]\n",
    "    \n",
    "fig = plt.figure()\n",
    "im = plt.imshow(u, vmin=0, vmax=1\n",
    "                , animated=True)\n",
    "plt.colorbar()\n",
    "title = plt.title('')\n",
    "\n",
    "def animate(i): \n",
    "    im.set_array(uHistory[i]) \n",
    "    title.set_text(\"t = %2.5f\" %(tHistory[i]))\n",
    "\n",
    "ani = animation.FuncAnimation(fig, animate, len(uHistory))\n",
    "plt.show()"
   ]
  },
  {
   "cell_type": "markdown",
   "metadata": {},
   "source": [
    "### Monte-Carlo simulation of the Ising model "
   ]
  },
  {
   "cell_type": "code",
   "execution_count": 21,
   "metadata": {},
   "outputs": [],
   "source": [
    "import numpy as np\n",
    "import matplotlib.pyplot as plt\n",
    "import matplotlib.animation as animation\n",
    "\n",
    "L = 100\n",
    "N = 2**19\n",
    "beta = 1.\n",
    "J = 1. #0.44\n",
    "h = 0\n",
    "\n",
    "sigma = 2*np.random.randint(0,2,(L,L))-1\n",
    "\n",
    "sigmaHistory = []\n",
    "tHistory_ = [int(500*n*(1+2**(n/400.))) for n in range(200)]\n",
    "nHistory = []\n",
    "\n",
    "for n in range(N-1):\n",
    "    k0, k1 = np.random.randint(L), np.random.randint(L) \n",
    "    # dH = H_new-H_old\n",
    "    dH = 2*sigma[k0,k1]*(J*(sigma[k0,(k1-1)%L]+sigma[k0,(k1+1)%L]+sigma[(k0-1)%L,k1]+sigma[(k0+1)%L,k1])+h)\n",
    "    if dH > 0:\n",
    "        a = np.random.rand()\n",
    "        if a > np.exp(-beta*dH):\n",
    "            continue\n",
    "    sigma[k0,k1] *= -1\n",
    "    if n in tHistory_:\n",
    "        nHistory.append(n)\n",
    "        sigmaHistory.append(sigma.copy())\n",
    "\n",
    "fig = plt.figure()\n",
    "im = plt.imshow(sigma+1, vmin=0, vmax=1, cmap='Greys_r',\n",
    "                interpolation='none', animated=True)\n",
    "title = plt.title('')\n",
    "\n",
    "def animate(i): \n",
    "    im.set_array(sigmaHistory[i]) \n",
    "    title.set_text('Iteration %d' %(nHistory[i]))\n",
    "\n",
    "ani = animation.FuncAnimation(fig, animate, len(sigmaHistory))\n",
    "plt.show()"
   ]
  },
  {
   "cell_type": "code",
   "execution_count": null,
   "metadata": {},
   "outputs": [],
   "source": []
  }
 ],
 "metadata": {
  "kernelspec": {
   "display_name": "Python 3",
   "language": "python",
   "name": "python3"
  },
  "language_info": {
   "codemirror_mode": {
    "name": "ipython",
    "version": 3
   },
   "file_extension": ".py",
   "mimetype": "text/x-python",
   "name": "python",
   "nbconvert_exporter": "python",
   "pygments_lexer": "ipython3",
   "version": "3.7.4"
  }
 },
 "nbformat": 4,
 "nbformat_minor": 1
}
